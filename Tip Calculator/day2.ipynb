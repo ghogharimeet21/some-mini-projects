{
 "cells": [
  {
   "cell_type": "markdown",
   "metadata": {},
   "source": [
    "27. Day 2 Project: Tip Calculator"
   ]
  },
  {
   "cell_type": "markdown",
   "metadata": {},
   "source": [
    "My Code"
   ]
  },
  {
   "cell_type": "code",
   "execution_count": 5,
   "metadata": {},
   "outputs": [
    {
     "name": "stdout",
     "output_type": "stream",
     "text": [
      "Welcome to the Tip Calculator\n",
      "The Total bill amount is 168.0 and tip amount is 18.0\n",
      "The split bill including tip for 5 Persons $33.6\n"
     ]
    }
   ],
   "source": [
    "print(\"Welcome to the Tip Calculator\")\n",
    "bill = float(input(\"Enter the bill amount $: \"))\n",
    "tip = int(input(\"Enter the tip amount in % : \"))\n",
    "split = int(input(\"How many people will split the bill: \"))\n",
    "\n",
    "tip = round(((bill * tip) / 100), 2)\n",
    "bill_tip = round(bill + tip, 2)\n",
    "split_pr_person = bill_tip / split\n",
    "final_bill_per_person = round(split_pr_person, 2)\n",
    "print(f\"The Total bill amount is {bill_tip} and tip amount is {tip}\")\n",
    "print(f\"The split bill including tip for {split} Persons is ${final_bill_per_person}\")"
   ]
  },
  {
   "cell_type": "markdown",
   "metadata": {},
   "source": [
    "Cource Code"
   ]
  },
  {
   "cell_type": "code",
   "execution_count": 2,
   "metadata": {},
   "outputs": [
    {
     "name": "stdout",
     "output_type": "stream",
     "text": [
      "Welcome to the Tip Calculator\n",
      "Each person should pay $35.29\n"
     ]
    }
   ],
   "source": [
    "print(\"Welcome to the Tip Calculator\")\n",
    "bill = float(input(\"Enter the bill amount $: \"))\n",
    "tip = int(input(\"Enter the tip amount in % : \"))\n",
    "people = int(input(\"How many people will split the bill: \"))\n",
    "\n",
    "tip_as_percent = tip/100\n",
    "total_tip_amount = bill * tip_as_percent\n",
    "total_bill = bill + total_tip_amount\n",
    "bill_per_person = total_bill / people\n",
    "final_amount = round(bill_per_person, 2)\n",
    "final_amount = \"{:.2f}\".format(bill_per_person)\n",
    "print(f\"Each person should pay ${final_amount}\")"
   ]
  }
 ],
 "metadata": {
  "kernelspec": {
   "display_name": "Python 3",
   "language": "python",
   "name": "python3"
  },
  "language_info": {
   "codemirror_mode": {
    "name": "ipython",
    "version": 3
   },
   "file_extension": ".py",
   "mimetype": "text/x-python",
   "name": "python",
   "nbconvert_exporter": "python",
   "pygments_lexer": "ipython3",
   "version": "3.10.12"
  }
 },
 "nbformat": 4,
 "nbformat_minor": 2
}
