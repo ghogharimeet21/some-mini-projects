{
 "cells": [
  {
   "cell_type": "code",
   "execution_count": 4,
   "metadata": {},
   "outputs": [
    {
     "name": "stdout",
     "output_type": "stream",
     "text": [
      "welcome to the rollercoaster\n",
      "You can ride the rollercoaster\n"
     ]
    }
   ],
   "source": [
    "print(\"welcome to the rollercoaster\")\n",
    "height = int(input(\"Whats is your height in cm :\"))\n",
    "\n",
    "if height >=  120:\n",
    "    print(\"You can ride the rollercoaster\")\n",
    "else:\n",
    "    print(\"Sorry, you can't ride the rollercoaster\")"
   ]
  },
  {
   "cell_type": "code",
   "execution_count": 2,
   "metadata": {},
   "outputs": [
    {
     "name": "stdout",
     "output_type": "stream",
     "text": [
      "welcome to the rollercoaster\n",
      "You can ride the rollercoaster\n",
      "adult tickets are $12\n",
      "Your final bill is $15\n"
     ]
    }
   ],
   "source": [
    "print(\"welcome to the rollercoaster\")\n",
    "height = int(input(\"Whats is your height in cm :\"))\n",
    "bill = 0\n",
    "\n",
    "if height >=  120:\n",
    "    print(\"You can ride the rollercoaster\")\n",
    "    age = int(input(\"Age :\"))\n",
    "    if age < 12:\n",
    "        print(\"child tickets are $5.\")\n",
    "        bill = 5\n",
    "    elif age <= 18:\n",
    "        print(\"youth tickets are $7.\")\n",
    "        bill = 7\n",
    "    elif age >= 45 and age <= 55:\n",
    "        print(\"Every thing is okay. we have a ride on us!\")\n",
    "    else:\n",
    "        print(\"adult tickets are $12\")\n",
    "        bill = 12\n",
    "    \n",
    "    wants_photo = input(\"Do you want a photo taken? (y/n): \")\n",
    "\n",
    "    if wants_photo == 'y':\n",
    "        bill += 3\n",
    "\n",
    "    print(f\"Your final bill is ${bill}\")\n",
    "else:\n",
    "    print(\"Sorry, you can't ride the rollercoaster\")"
   ]
  },
  {
   "cell_type": "markdown",
   "metadata": {},
   "source": [
    "treasure-island-end"
   ]
  },
  {
   "cell_type": "code",
   "execution_count": 3,
   "metadata": {},
   "outputs": [
    {
     "name": "stdout",
     "output_type": "stream",
     "text": [
      "\n",
      "*******************************************************************************\n",
      "          |                   |                  |                     |\n",
      " _________|________________.=\"\"_;=.______________|_____________________|_______\n",
      "|                   |  ,-\"_,=\"\"     `\"=.|                  |\n",
      "|___________________|__\"=._o`\"-._        `\"=.______________|___________________\n",
      "          |                `\"=._o`\"=._      _`\"=._                     |\n",
      " _________|_____________________:=._o \"=._.\"_.-=\"'\"=.__________________|_______\n",
      "|                   |    __.--\" , ; `\"=._o.\" ,-\"\"\"-._ \".   |\n",
      "|___________________|_._\"  ,. .` ` `` ,  `\"-._\"-._   \". '__|___________________\n",
      "          |           |o`\"=._` , \"` `; .\". ,  \"-._\"-._; ;              |\n",
      " _________|___________| ;`-.o`\"=._; .\" ` '`.\"\\` . \"-._ /_______________|_______\n",
      "|                   | |o;    `\"-.o`\"=._``  '` \" ,__.--o;   |\n",
      "|___________________|_| ;     (#) `-.o `\"=.`_.--\"_o.-; ;___|___________________\n",
      "____/______/______/___|o;._    \"      `\".o|o_.--\"    ;o;____/______/______/____\n",
      "/______/______/______/_\"=._o--._        ; | ;        ; ;/______/______/______/_\n",
      "____/______/______/______/__\"=._o--._   ;o|o;     _._;o;____/______/______/____\n",
      "/______/______/______/______/____\"=._o._; | ;_.--\"o.--\"_/______/______/______/_\n",
      "____/______/______/______/______/_____\"=.o|o_.--\"\"___/______/______/______/____\n",
      "/______/______/______/______/______/______/______/______/______/______/_____ /\n",
      "*******************************************************************************\n",
      "\n",
      "Welcome to Treasure Island.\n",
      "Your mission is to find the treasure.\n",
      "You crossed the river by boat you waited for :)\n",
      "Your Won The game congratulations :)\n"
     ]
    }
   ],
   "source": [
    "print('''\n",
    "*******************************************************************************\n",
    "          |                   |                  |                     |\n",
    " _________|________________.=\"\"_;=.______________|_____________________|_______\n",
    "|                   |  ,-\"_,=\"\"     `\"=.|                  |\n",
    "|___________________|__\"=._o`\"-._        `\"=.______________|___________________\n",
    "          |                `\"=._o`\"=._      _`\"=._                     |\n",
    " _________|_____________________:=._o \"=._.\"_.-=\"'\"=.__________________|_______\n",
    "|                   |    __.--\" , ; `\"=._o.\" ,-\"\"\"-._ \".   |\n",
    "|___________________|_._\"  ,. .` ` `` ,  `\"-._\"-._   \". '__|___________________\n",
    "          |           |o`\"=._` , \"` `; .\". ,  \"-._\"-._; ;              |\n",
    " _________|___________| ;`-.o`\"=._; .\" ` '`.\"\\` . \"-._ /_______________|_______\n",
    "|                   | |o;    `\"-.o`\"=._``  '` \" ,__.--o;   |\n",
    "|___________________|_| ;     (#) `-.o `\"=.`_.--\"_o.-; ;___|___________________\n",
    "____/______/______/___|o;._    \"      `\".o|o_.--\"    ;o;____/______/______/____\n",
    "/______/______/______/_\"=._o--._        ; | ;        ; ;/______/______/______/_\n",
    "____/______/______/______/__\"=._o--._   ;o|o;     _._;o;____/______/______/____\n",
    "/______/______/______/______/____\"=._o._; | ;_.--\"o.--\"_/______/______/______/_\n",
    "____/______/______/______/______/_____\"=.o|o_.--\"\"___/______/______/______/____\n",
    "/______/______/______/______/______/______/______/______/______/______/_____ /\n",
    "*******************************************************************************\n",
    "''')\n",
    "print(\"Welcome to Treasure Island.\")\n",
    "print(\"Your mission is to find the treasure.\")\n",
    "choice = input(\"where you wanto go left or right?\").lower()\n",
    "if choice == 'left':\n",
    "    choice = input(\"you are frunt of river you want to swim or wait ?\").lower()\n",
    "    if choice == 'wait':\n",
    "        print(\"You crossed the river by boat you waited for :)\")\n",
    "        choice = input(\"Which door you choose ? Red, Blue, Yellow or anythingelse\").lower()\n",
    "        if choice == \"yellow\":\n",
    "            print(\"Your Won The game congratulations :)\")\n",
    "        elif choice == \"blue\":\n",
    "            print(\"Eaten by beasts Game Over :)\")\n",
    "        elif choice == \"red\":\n",
    "            print(\"Burned by fire Game Over :)\")\n",
    "        else:\n",
    "            print(\"you chose a door that doesn't exist. Game Over :)\")\n",
    "    else:\n",
    "        print(\"You drowned in the water Game Over :<(\")\n",
    "else:\n",
    "    print(\"You cutted by dragon Game Over :<(\")"
   ]
  }
 ],
 "metadata": {
  "kernelspec": {
   "display_name": "Python 3",
   "language": "python",
   "name": "python3"
  },
  "language_info": {
   "codemirror_mode": {
    "name": "ipython",
    "version": 3
   },
   "file_extension": ".py",
   "mimetype": "text/x-python",
   "name": "python",
   "nbconvert_exporter": "python",
   "pygments_lexer": "ipython3",
   "version": "3.10.12"
  }
 },
 "nbformat": 4,
 "nbformat_minor": 2
}
