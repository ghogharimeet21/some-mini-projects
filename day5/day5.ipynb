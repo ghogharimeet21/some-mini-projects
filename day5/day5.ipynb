{
 "cells": [
  {
   "cell_type": "markdown",
   "metadata": {},
   "source": [
    "To Day Project"
   ]
  },
  {
   "cell_type": "code",
   "execution_count": 3,
   "metadata": {},
   "outputs": [
    {
     "name": "stdout",
     "output_type": "stream",
     "text": [
      "Welcome to the PyPassword Generator!\n",
      "MHFES(!+)&4164\n",
      "['H', 'J', 'Q', 'k', 'H', '#', '!', ')', '&', '*', '3', '3', '2', '2']\n",
      "['2', '3', 'k', '*', 'H', '&', '2', 'J', 'Q', '#', '!', ')', 'H', '3']\n",
      "23k*H&2JQ#!)H3\n"
     ]
    }
   ],
   "source": [
    "#Password Generator Project\n",
    "import random\n",
    "letters = ['a', 'b', 'c', 'd', 'e', 'f', 'g', 'h', 'i', 'j', 'k', 'l', 'm', 'n', 'o', 'p', 'q', 'r', 's', 't', 'u', 'v', 'w', 'x', 'y', 'z', 'A', 'B', 'C', 'D', 'E', 'F', 'G', 'H', 'I', 'J', 'K', 'L', 'M', 'N', 'O', 'P', 'Q', 'R', 'S', 'T', 'U', 'V', 'W', 'X', 'Y', 'Z']\n",
    "numbers = ['0', '1', '2', '3', '4', '5', '6', '7', '8', '9']\n",
    "symbols = ['!', '#', '$', '%', '&', '(', ')', '*', '+']\n",
    "\n",
    "print(\"Welcome to the PyPassword Generator!\")\n",
    "nr_letters= int(input(\"How many letters would you like in your password?\\n\")) \n",
    "nr_symbols = int(input(f\"How many symbols would you like?\\n\"))\n",
    "nr_numbers = int(input(f\"How many numbers would you like?\\n\"))\n",
    "\n",
    "#Eazy Level - Order not randomised:\n",
    "#e.g. 4 letter, 2 symbol, 2 number = JduE&!91\n",
    "\n",
    "password = \"\"\n",
    "#================================================================ First Way\n",
    "# for char in range(1, nr_letters + 1): \n",
    "#     password += letters[random.randint(0, len(letters))]\n",
    "# for num in range(1, nr_numbers + 1): \n",
    "#     password += numbers[random.randint(0, len(numbers))]\n",
    "# for sy in range(1, nr_symbols + 1): \n",
    "#     password += symbols[random.randint(0, len(symbols))]\n",
    "#================================================================ Second Way\n",
    "for char in range(1, nr_letters + 1):\n",
    "    password += random.choice(letters)\n",
    "for sy in range(1, nr_symbols + 1):\n",
    "    password += random.choice(symbols)\n",
    "for num in range(1, nr_numbers + 1):\n",
    "    password += random.choice(numbers)\n",
    "print(password)\n",
    "#================================================================\n",
    "\n",
    "#Hard Level - Order of characters randomised:\n",
    "#e.g. 4 letter, 2 symbol, 2 number = g^2jk8&P\n",
    "password_list = []\n",
    "for char in range(1, nr_letters + 1):\n",
    "    password_list += random.choice(letters)\n",
    "for sy in range(1, nr_symbols + 1):\n",
    "    password_list += random.choice(symbols)\n",
    "for num in range(1, nr_numbers + 1):\n",
    "    password_list += random.choice(numbers)\n",
    "print(password_list)\n",
    "random.shuffle(password_list)\n",
    "print(password_list)\n",
    "final_pass = \"\"\n",
    "for char in password_list:\n",
    "    final_pass += char\n",
    "print(final_pass)"
   ]
  }
 ],
 "metadata": {
  "kernelspec": {
   "display_name": "Python 3",
   "language": "python",
   "name": "python3"
  },
  "language_info": {
   "codemirror_mode": {
    "name": "ipython",
    "version": 3
   },
   "file_extension": ".py",
   "mimetype": "text/x-python",
   "name": "python",
   "nbconvert_exporter": "python",
   "pygments_lexer": "ipython3",
   "version": "3.10.12"
  }
 },
 "nbformat": 4,
 "nbformat_minor": 2
}
