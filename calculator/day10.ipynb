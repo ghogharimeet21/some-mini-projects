{
 "cells": [
  {
   "cell_type": "code",
   "execution_count": 1,
   "metadata": {},
   "outputs": [],
   "source": [
    "def my_func():\n",
    "    return 3 * 2\n",
    "output = my_func()"
   ]
  },
  {
   "cell_type": "code",
   "execution_count": 16,
   "metadata": {},
   "outputs": [
    {
     "name": "stdout",
     "output_type": "stream",
     "text": [
      "('Sahil', 'Pandav')\n",
      "('Meet', 'Ghoghari')\n"
     ]
    }
   ],
   "source": [
    "def format_name(f_name, l_name):\n",
    "    \n",
    "    formated_name = f_name.title(), l_name.title()\n",
    "    return formated_name\n",
    "    # formated_f_name = f_name.title()\n",
    "    # formated_l_name = l_name.title()\n",
    "\n",
    "    # return f\"{formated_f_name} {formated_l_name}\" \n",
    "#             this output replces the part of the code \n",
    "#             where the function is called\n",
    "format_name(\"meet\", \"ghoghari\") # this is function call\n",
    "\n",
    "formated_string = format_name(\"SAhil\", \"paNDaV\")\n",
    "print(formated_string)\n",
    "print(format_name(\"MeEt\", \"gHOGhaRi\"))"
   ]
  },
  {
   "cell_type": "code",
   "execution_count": 13,
   "metadata": {},
   "outputs": [
    {
     "name": "stdout",
     "output_type": "stream",
     "text": [
      "4\n"
     ]
    }
   ],
   "source": [
    "output = len(\"Meet\")\n",
    "print(output)"
   ]
  },
  {
   "cell_type": "code",
   "execution_count": 4,
   "metadata": {},
   "outputs": [
    {
     "name": "stdout",
     "output_type": "stream",
     "text": [
      "Meet Ghoghari\n"
     ]
    }
   ],
   "source": [
    "def formatx(f_name, l_name):\n",
    "    if f_name == \"\" or l_name == \"\":\n",
    "        return \"You didn't provided valid inputs.\"\n",
    "    formated_fname = f_name.title()\n",
    "    formated_lname = l_name.title()\n",
    "    return f\"{formated_fname} {formated_lname}\"\n",
    "print(formatx(input(\"What's your first name :\"), input(\"What's Your last name :\")))"
   ]
  },
  {
   "cell_type": "markdown",
   "metadata": {},
   "source": [
    "LESSON 24 DAY 10 - DAYS IN MONTH"
   ]
  },
  {
   "cell_type": "code",
   "execution_count": null,
   "metadata": {},
   "outputs": [],
   "source": [
    "#========================== My Code =========================\n",
    "def is_leap(year):\n",
    "  if year % 4 == 0:\n",
    "    if year % 100 == 0:\n",
    "      if year % 400 == 0:\n",
    "        return True\n",
    "      else:\n",
    "        return False\n",
    "    else:\n",
    "      return True\n",
    "  else:\n",
    "    return False\n",
    "  \n",
    "# TODO: Add more code here 👇\n",
    "def days_in_month(year, month):\n",
    "  month_days = [31, 28, 31, 30, 31, 30, 31, 31, 30, 31, 30, 31] \n",
    "  if is_leap(year) == True:\n",
    "    month_days[1] += 1\n",
    "    days = month_days[month - 1]\n",
    "    return days\n",
    "  else:\n",
    "    days = month_days[month - 1]\n",
    "    return days\n",
    "\n",
    "\n",
    "#🚨 Do NOT change any of the code below \n",
    "year = int(input()) # Enter a year\n",
    "month = int(input()) # Enter a month\n",
    "days = days_in_month(year, month)\n",
    "print(days)"
   ]
  },
  {
   "cell_type": "code",
   "execution_count": 1,
   "metadata": {},
   "outputs": [
    {
     "name": "stdout",
     "output_type": "stream",
     "text": [
      "30\n"
     ]
    }
   ],
   "source": [
    "#========================== Cource Code =========================\n",
    "def is_leap(year):\n",
    "  if year % 4 == 0:\n",
    "    if year % 100 == 0:\n",
    "      if year % 400 == 0:\n",
    "        return True\n",
    "      else:\n",
    "        return False\n",
    "    else:\n",
    "      return True\n",
    "  else:\n",
    "    return False\n",
    "  \n",
    "# TODO: Add more code here 👇\n",
    "def days_in_month(year, month):\n",
    "  month_days = [31, 28, 31, 30, 31, 30, 31, 31, 30, 31, 30, 31]\n",
    "  if month == 2 and is_leap():\n",
    "    return 29\n",
    "  else:\n",
    "    return month_days[month - 1]\n",
    "\n",
    "#🚨 Do NOT change any of the code below \n",
    "year = int(input()) # Enter a year\n",
    "month = int(input()) # Enter a month\n",
    "days = days_in_month(year, month)\n",
    "print(days)"
   ]
  },
  {
   "cell_type": "markdown",
   "metadata": {},
   "source": [
    "Docstrings"
   ]
  },
  {
   "cell_type": "code",
   "execution_count": 5,
   "metadata": {},
   "outputs": [
    {
     "name": "stdout",
     "output_type": "stream",
     "text": [
      " Here You can write your documentation! \n"
     ]
    }
   ],
   "source": [
    "def is_leap_(year):\n",
    "  \"\"\" Here You can write your documentation! \"\"\"\n",
    "  if year % 4 == 0:\n",
    "    if year % 100 == 0:\n",
    "      if year % 400 == 0:\n",
    "        return True\n",
    "      else:\n",
    "        return False\n",
    "    else:\n",
    "      return True\n",
    "  else:\n",
    "    return False\n",
    "  \n",
    "print(is_leap_.__doc__)"
   ]
  },
  {
   "cell_type": "markdown",
   "metadata": {},
   "source": [
    "Final Project"
   ]
  },
  {
   "cell_type": "code",
   "execution_count": 1,
   "metadata": {},
   "outputs": [
    {
     "name": "stdout",
     "output_type": "stream",
     "text": [
      "\n",
      " _____________________\n",
      "|  _________________  |\n",
      "| | Pythonista   0. | |  .----------------.  .----------------.  .----------------.  .----------------. \n",
      "| |_________________| | | .--------------. || .--------------. || .--------------. || .--------------. |\n",
      "|  ___ ___ ___   ___  | | |     ______   | || |      __      | || |   _____      | || |     ______   | |\n",
      "| | 7 | 8 | 9 | | + | | | |   .' ___  |  | || |     /  \\     | || |  |_   _|     | || |   .' ___  |  | |\n",
      "| |___|___|___| |___| | | |  / .'   \\_|  | || |    / /\\ \\    | || |    | |       | || |  / .'   \\_|  | |\n",
      "| | 4 | 5 | 6 | | - | | | |  | |         | || |   / ____ \\   | || |    | |   _   | || |  | |         | |\n",
      "| |___|___|___| |___| | | |  \\ `.___.'\\  | || | _/ /    \\ \\_ | || |   _| |__/ |  | || |  \\ `.___.'\\  | |\n",
      "| | 1 | 2 | 3 | | x | | | |   `._____.'  | || ||____|  |____|| || |  |________|  | || |   `._____.'  | |\n",
      "| |___|___|___| |___| | | |              | || |              | || |              | || |              | |\n",
      "| | . | 0 | = | | / | | | '--------------' || '--------------' || '--------------' || '--------------' |\n",
      "| |___|___|___| |___| |  '----------------'  '----------------'  '----------------'  '----------------' \n",
      "|_____________________|\n",
      "\n",
      "+\n",
      "-\n",
      "*\n",
      "/\n",
      "25.0 + 25.0 = 50.0\n"
     ]
    },
    {
     "ename": "ValueError",
     "evalue": "could not convert string to float: ''",
     "output_type": "error",
     "traceback": [
      "\u001b[0;31m---------------------------------------------------------------------------\u001b[0m",
      "\u001b[0;31mValueError\u001b[0m                                Traceback (most recent call last)",
      "Cell \u001b[0;32mIn[1], line 38\u001b[0m\n\u001b[1;32m     35\u001b[0m             should_continue \u001b[38;5;241m=\u001b[39m \u001b[38;5;28;01mFalse\u001b[39;00m\n\u001b[1;32m     36\u001b[0m             calculator()\n\u001b[0;32m---> 38\u001b[0m \u001b[43mcalculator\u001b[49m\u001b[43m(\u001b[49m\u001b[43m)\u001b[49m\n\u001b[1;32m     41\u001b[0m \u001b[38;5;66;03m# operation_symbol = input(\"Pick another operation: \")\u001b[39;00m\n\u001b[1;32m     42\u001b[0m \u001b[38;5;66;03m# num3 = int(input(\"what's the next number?: \"))\u001b[39;00m\n\u001b[1;32m     43\u001b[0m \u001b[38;5;66;03m# calculation_function = operations[operation_symbol]\u001b[39;00m\n\u001b[1;32m     44\u001b[0m \u001b[38;5;66;03m# second_answer = calculation_function(first_answer, num3)\u001b[39;00m\n\u001b[1;32m     45\u001b[0m \u001b[38;5;66;03m# print(f\"{first_answer} {operation_symbol} {num3} = {second_answer}\")\u001b[39;00m\n",
      "Cell \u001b[0;32mIn[1], line 25\u001b[0m, in \u001b[0;36mcalculator\u001b[0;34m()\u001b[0m\n\u001b[1;32m     22\u001b[0m \u001b[38;5;28;01mwhile\u001b[39;00m should_continue:\n\u001b[1;32m     23\u001b[0m     operation_symbol \u001b[38;5;241m=\u001b[39m \u001b[38;5;28minput\u001b[39m(\u001b[38;5;124m\"\u001b[39m\u001b[38;5;124mPick an operation \u001b[39m\u001b[38;5;124m\"\u001b[39m)\n\u001b[0;32m---> 25\u001b[0m     num2 \u001b[38;5;241m=\u001b[39m \u001b[38;5;28;43mfloat\u001b[39;49m\u001b[43m(\u001b[49m\u001b[38;5;28;43minput\u001b[39;49m\u001b[43m(\u001b[49m\u001b[38;5;124;43m\"\u001b[39;49m\u001b[38;5;124;43mWhat\u001b[39;49m\u001b[38;5;124;43m'\u001b[39;49m\u001b[38;5;124;43ms The Next number? :\u001b[39;49m\u001b[38;5;124;43m\"\u001b[39;49m\u001b[43m)\u001b[49m\u001b[43m)\u001b[49m\n\u001b[1;32m     27\u001b[0m     calculation_function \u001b[38;5;241m=\u001b[39m operations[operation_symbol]\n\u001b[1;32m     28\u001b[0m     first_answer \u001b[38;5;241m=\u001b[39m calculation_function(num1, num2)\n",
      "\u001b[0;31mValueError\u001b[0m: could not convert string to float: ''"
     ]
    }
   ],
   "source": [
    "from art import logo\n",
    "\n",
    "def add(n1, n2):\n",
    "    return n1 + n2\n",
    "def subtract(n1, n2):\n",
    "    return n1 - n2\n",
    "def multiply(n1, n2):\n",
    "    return n1 * n2\n",
    "def divide(n1, n2):\n",
    "    return n1 / n2\n",
    "\n",
    "operations = {\"+\":add, \"-\":subtract, \"*\":multiply, \"/\":divide,}\n",
    "\n",
    "def calculator():\n",
    "    print(logo)\n",
    "    num1 = float(input(\"What's The First number? :\"))\n",
    "    for symbol in operations:\n",
    "        print(symbol)\n",
    "\n",
    "    should_continue = True\n",
    "\n",
    "    while should_continue:\n",
    "        operation_symbol = input(\"Pick an operation \")\n",
    "\n",
    "        num2 = float(input(\"What's The Next number? :\"))\n",
    "\n",
    "        calculation_function = operations[operation_symbol]\n",
    "        first_answer = calculation_function(num1, num2)\n",
    "\n",
    "        print(f\"{num1} {operation_symbol} {num2} = {first_answer}\")\n",
    "\n",
    "        if input(f\"Type 'y' to continue caculating with {first_answer}, or type 'n' to start a new calcularion: \") == \"y\":\n",
    "            num1 = first_answer\n",
    "        else:\n",
    "            should_continue = False\n",
    "            calculator()\n",
    "\n",
    "calculator()\n",
    "\n",
    "\n",
    "# operation_symbol = input(\"Pick another operation: \")\n",
    "# num3 = int(input(\"what's the next number?: \"))\n",
    "# calculation_function = operations[operation_symbol]\n",
    "# second_answer = calculation_function(first_answer, num3)\n",
    "# print(f\"{first_answer} {operation_symbol} {num3} = {second_answer}\")\n"
   ]
  }
 ],
 "metadata": {
  "kernelspec": {
   "display_name": "Python 3",
   "language": "python",
   "name": "python3"
  },
  "language_info": {
   "codemirror_mode": {
    "name": "ipython",
    "version": 3
   },
   "file_extension": ".py",
   "mimetype": "text/x-python",
   "name": "python",
   "nbconvert_exporter": "python",
   "pygments_lexer": "ipython3",
   "version": "3.10.12"
  }
 },
 "nbformat": 4,
 "nbformat_minor": 2
}
